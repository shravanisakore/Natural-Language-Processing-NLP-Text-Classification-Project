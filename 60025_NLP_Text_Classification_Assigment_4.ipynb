{
  "nbformat": 4,
  "nbformat_minor": 0,
  "metadata": {
    "colab": {
      "provenance": []
    },
    "kernelspec": {
      "name": "python3",
      "display_name": "Python 3"
    },
    "language_info": {
      "name": "python"
    }
  },
  "cells": [
    {
      "cell_type": "markdown",
      "source": [
        "Course Name: Deep Learning\n",
        "\n",
        "Lab Title: NLP Techniques for Text Classification\n",
        "\n",
        "Student Name : Shravani Sakore\n",
        "\n",
        "Student ID:202201060025\n",
        "\n",
        "Date of Submission: 1-4-25\n",
        "\n",
        "Group Members: Manvi Pawar,Kanishka Garud,Sakshi Dube\n",
        "\n",
        "Objective The objective of this assignment is to implement NLP preprocessing techniques and build a text classification model using machine learning techniques."
      ],
      "metadata": {
        "id": "SmTeF6Lp_-Bm"
      }
    },
    {
      "cell_type": "markdown",
      "source": [
        "Dataset : https://www.kaggle.com/datasets/saurabhshahane/ecommerce-text-classification"
      ],
      "metadata": {
        "id": "3AvotQ6IBYwt"
      }
    },
    {
      "cell_type": "markdown",
      "source": [
        " Importing Necessary Libraries"
      ],
      "metadata": {
        "id": "jNsmKfpp7t3v"
      }
    },
    {
      "cell_type": "code",
      "source": [
        "import pandas as pd\n",
        "import numpy as np\n",
        "import nltk\n",
        "import re\n",
        "import string\n",
        "from nltk.tokenize import word_tokenize\n",
        "from nltk.corpus import stopwords\n",
        "from nltk.stem import PorterStemmer, WordNetLemmatizer\n",
        "from sklearn.feature_extraction.text import CountVectorizer, TfidfVectorizer\n",
        "from sklearn.model_selection import train_test_split\n",
        "from sklearn.naive_bayes import MultinomialNB\n",
        "from sklearn.metrics import accuracy_score, confusion_matrix, classification_report\n"
      ],
      "metadata": {
        "id": "ZbVBD_oMz1rV"
      },
      "execution_count": 12,
      "outputs": []
    },
    {
      "cell_type": "markdown",
      "source": [
        " Downloading Required NLTK Data"
      ],
      "metadata": {
        "id": "Y4EZ62Ci7xqF"
      }
    },
    {
      "cell_type": "code",
      "source": [
        "nltk.download('punkt')\n",
        "nltk.download('stopwords')\n",
        "nltk.download('wordnet')\n",
        "\n"
      ],
      "metadata": {
        "colab": {
          "base_uri": "https://localhost:8080/"
        },
        "id": "kkl_CAgLz3j-",
        "outputId": "1f38a8cc-c49c-4841-e777-8143f1cd5377"
      },
      "execution_count": 13,
      "outputs": [
        {
          "output_type": "stream",
          "name": "stderr",
          "text": [
            "[nltk_data] Downloading package punkt to /root/nltk_data...\n",
            "[nltk_data]   Package punkt is already up-to-date!\n",
            "[nltk_data] Downloading package stopwords to /root/nltk_data...\n",
            "[nltk_data]   Package stopwords is already up-to-date!\n",
            "[nltk_data] Downloading package wordnet to /root/nltk_data...\n",
            "[nltk_data]   Package wordnet is already up-to-date!\n"
          ]
        },
        {
          "output_type": "execute_result",
          "data": {
            "text/plain": [
              "True"
            ]
          },
          "metadata": {},
          "execution_count": 13
        }
      ]
    },
    {
      "cell_type": "markdown",
      "source": [
        "Loading the Dataset"
      ],
      "metadata": {
        "id": "WPBJWRxl71ZY"
      }
    },
    {
      "cell_type": "code",
      "source": [
        "dataset_path = \"/content/ecommerceDataset.csv\"  # Update this with the correct dataset path\n",
        "df = pd.read_csv(dataset_path, on_bad_lines='skip', quoting=3)\n",
        "\n",
        "# Display first few rows\n",
        "print(df.head())\n",
        "\n",
        "# Check dataset info\n",
        "print(df.info())\n",
        "\n",
        "# Check for missing values\n",
        "print(df.isnull().sum())\n"
      ],
      "metadata": {
        "colab": {
          "base_uri": "https://localhost:8080/"
        },
        "id": "vf9ugtL9z-UH",
        "outputId": "acc80dc1-43fa-45a3-9b1d-2c1b9aaa426e"
      },
      "execution_count": 14,
      "outputs": [
        {
          "output_type": "stream",
          "name": "stdout",
          "text": [
            "   Household  \\\n",
            "0  Household   \n",
            "1  Household   \n",
            "2  Household   \n",
            "3  Household   \n",
            "4  Household   \n",
            "\n",
            "  \"Paper Plane Design Framed Wall Hanging Motivational Office Decor Art Prints (8.7 X 8.7 inch) - Set of 4 Painting made up in synthetic frame with uv textured print which gives multi effects and attracts towards it. This is an special series of paintings which makes your wall very beautiful and gives a royal touch. This painting is ready to hang  \\\n",
            "0                \"SAF 'Floral' Framed Painting (Wood                                                                                                                                                                                                                                                                                                           \n",
            "1  \"SAF 'UV Textured Modern Art Print Framed' Pai...                                                                                                                                                                                                                                                                                                           \n",
            "2  \"Incredible Gifts India Wooden Happy Birthday ...                                                                                                                                                                                                                                                                                                           \n",
            "3  \"Paper Plane Design Starry Night Vangoh Wall A...                                                                                                                                                                                                                                                                                                           \n",
            "4  \"SAF 'Ganesh Modern Art Print' Painting (Synth...                                                                                                                                                                                                                                                                                                           \n",
            "\n",
            "   you would be proud to possess this unique painting that is a niche apart. We use only the most modern and efficient printing technology on our prints  \\\n",
            "0                                  30 inch x 10 inch                                                                                                       \n",
            "1                               35 cm x 50 cm x 3 cm                                                                                                       \n",
            "2   Which Is Quite Solid With Light Particle Patt...                                                                                                       \n",
            "3   with only the best and original inks and prec...                                                                                                       \n",
            "4                               35 cm x 50 cm x 2 cm                                                                                                       \n",
            "\n",
            "          with only the and inks and precision epson  \\\n",
            "0                   Special Effect UV Print Textured   \n",
            "1   Set of 3) Color:Multicolor                   ...   \n",
            "2   Some Can Be Used As Table Top And The Big Siz...   \n",
            "3   to achieve brilliant and true colours. Due to...   \n",
            "4   Set of 3) Color:Multicolor   Overview a beaut...   \n",
            "\n",
            "   roland and hp printers. This innovative hd printing technique results in durable and spectacular looking prints of the highest that last a lifetime. We print solely with top-notch 100% inks  \\\n",
            "0   SAO297) Painting made up in synthetic frame w...                                                                                                                                               \n",
            "1   the end product will be a picture that can sp...                                                                                                                                               \n",
            "2                                                NaN                                                                                                                                               \n",
            "3   our Canvas prints retain their beautiful colo...                                                                                                                                               \n",
            "4   the end product will be a picture that can sp...                                                                                                                                               \n",
            "\n",
            "   to achieve brilliant and true colours. Due to their high level of uv resistance  \\\n",
            "0                                                NaN                                 \n",
            "1   it does not include glass along with the fram...                                 \n",
            "2                                                NaN                                 \n",
            "3   to ensure that the colours of your original i...                                 \n",
            "4   it does not include glass along with the fram...                                 \n",
            "\n",
            "   our prints retain their beautiful colours for many years. Add colour and style to your living space with this digitally printed painting. Some are for pleasure and some for eternal bliss.so bring home this elegant print that is lushed with rich colors that makes it nothing but sheer elegance to be to your friends and family.it would be treasured forever by whoever your lucky recipient is. Liven up your place with these intriguing paintings that are high definition hd graphic digital prints for home  \\\n",
            "0                                                NaN                                                                                                                                                                                                                                                                                                                                                                                                                                                                         \n",
            "1                and shopping is just a click away!\"                                                                                                                                                                                                                                                                                                                                                                                                                                                                         \n",
            "2                                                NaN                                                                                                                                                                                                                                                                                                                                                                                                                                                                         \n",
            "3   with brilliant tones. Add colour and style to...                                                                                                                                                                                                                                                                                                                                                                                                                                                                         \n",
            "4                and shopping is just a click away!\"                                                                                                                                                                                                                                                                                                                                                                                                                                                                         \n",
            "\n",
            "                                office or any room.\"  \n",
            "0                                                NaN  \n",
            "1                                                NaN  \n",
            "2                                                NaN  \n",
            "3   office or any room. A perfect size of 36 inch...  \n",
            "4                                                NaN  \n",
            "<class 'pandas.core.frame.DataFrame'>\n",
            "RangeIndex: 35663 entries, 0 to 35662\n",
            "Data columns (total 8 columns):\n",
            " #   Column                                                                                                                                                                                                                                                                                                                                                                                                                                                                                                                    Non-Null Count  Dtype \n",
            "---  ------                                                                                                                                                                                                                                                                                                                                                                                                                                                                                                                    --------------  ----- \n",
            " 0   Household                                                                                                                                                                                                                                                                                                                                                                                                                                                                                                                 35663 non-null  object\n",
            " 1   \"Paper Plane Design Framed Wall Hanging Motivational Office Decor Art Prints (8.7 X 8.7 inch) - Set of 4 Painting made up in synthetic frame with uv textured print which gives multi effects and attracts towards it. This is an special series of paintings which makes your wall very beautiful and gives a royal touch. This painting is ready to hang                                                                                                                                                                35655 non-null  object\n",
            " 2    you would be proud to possess this unique painting that is a niche apart. We use only the most modern and efficient printing technology on our prints                                                                                                                                                                                                                                                                                                                                                                    23759 non-null  object\n",
            " 3    with only the and inks and precision epson                                                                                                                                                                                                                                                                                                                                                                                                                                                                               17441 non-null  object\n",
            " 4    roland and hp printers. This innovative hd printing technique results in durable and spectacular looking prints of the highest that last a lifetime. We print solely with top-notch 100% inks                                                                                                                                                                                                                                                                                                                            12685 non-null  object\n",
            " 5    to achieve brilliant and true colours. Due to their high level of uv resistance                                                                                                                                                                                                                                                                                                                                                                                                                                          8744 non-null   object\n",
            " 6    our prints retain their beautiful colours for many years. Add colour and style to your living space with this digitally printed painting. Some are for pleasure and some for eternal bliss.so bring home this elegant print that is lushed with rich colors that makes it nothing but sheer elegance to be to your friends and family.it would be treasured forever by whoever your lucky recipient is. Liven up your place with these intriguing paintings that are high definition hd graphic digital prints for home  5130 non-null   object\n",
            " 7    office or any room.\"                                                                                                                                                                                                                                                                                                                                                                                                                                                                                                     2243 non-null   object\n",
            "dtypes: object(8)\n",
            "memory usage: 2.2+ MB\n",
            "None\n",
            "Household                                                                                                                                                                                                                                                                                                                                                                                                                                                                                                                       0\n",
            "\"Paper Plane Design Framed Wall Hanging Motivational Office Decor Art Prints (8.7 X 8.7 inch) - Set of 4 Painting made up in synthetic frame with uv textured print which gives multi effects and attracts towards it. This is an special series of paintings which makes your wall very beautiful and gives a royal touch. This painting is ready to hang                                                                                                                                                                      8\n",
            " you would be proud to possess this unique painting that is a niche apart. We use only the most modern and efficient printing technology on our prints                                                                                                                                                                                                                                                                                                                                                                      11904\n",
            " with only the and inks and precision epson                                                                                                                                                                                                                                                                                                                                                                                                                                                                                 18222\n",
            " roland and hp printers. This innovative hd printing technique results in durable and spectacular looking prints of the highest that last a lifetime. We print solely with top-notch 100% inks                                                                                                                                                                                                                                                                                                                              22978\n",
            " to achieve brilliant and true colours. Due to their high level of uv resistance                                                                                                                                                                                                                                                                                                                                                                                                                                            26919\n",
            " our prints retain their beautiful colours for many years. Add colour and style to your living space with this digitally printed painting. Some are for pleasure and some for eternal bliss.so bring home this elegant print that is lushed with rich colors that makes it nothing but sheer elegance to be to your friends and family.it would be treasured forever by whoever your lucky recipient is. Liven up your place with these intriguing paintings that are high definition hd graphic digital prints for home    30533\n",
            " office or any room.\"                                                                                                                                                                                                                                                                                                                                                                                                                                                                                                       33420\n",
            "dtype: int64\n"
          ]
        }
      ]
    },
    {
      "cell_type": "markdown",
      "source": [
        "Handling Missing Values & Renaming Columns (If Needed)"
      ],
      "metadata": {
        "id": "UD-lgtwU76ho"
      }
    },
    {
      "cell_type": "code",
      "source": [
        "print(df.columns)  # See the current column names\n",
        "print(df.shape)    # Check the number of rows and columns\n"
      ],
      "metadata": {
        "colab": {
          "base_uri": "https://localhost:8080/"
        },
        "id": "ZH7BVPjJ0yW5",
        "outputId": "6636dd50-9052-4f9b-8ac6-86a1b1737235"
      },
      "execution_count": 15,
      "outputs": [
        {
          "output_type": "stream",
          "name": "stdout",
          "text": [
            "Index(['Household',\n",
            "       '\"Paper Plane Design Framed Wall Hanging Motivational Office Decor Art Prints (8.7 X 8.7 inch) - Set of 4 Painting made up in synthetic frame with uv textured print which gives multi effects and attracts towards it. This is an special series of paintings which makes your wall very beautiful and gives a royal touch. This painting is ready to hang',\n",
            "       ' you would be proud to possess this unique painting that is a niche apart. We use only the most modern and efficient printing technology on our prints',\n",
            "       ' with only the and inks and precision epson',\n",
            "       ' roland and hp printers. This innovative hd printing technique results in durable and spectacular looking prints of the highest that last a lifetime. We print solely with top-notch 100% inks',\n",
            "       ' to achieve brilliant and true colours. Due to their high level of uv resistance',\n",
            "       ' our prints retain their beautiful colours for many years. Add colour and style to your living space with this digitally printed painting. Some are for pleasure and some for eternal bliss.so bring home this elegant print that is lushed with rich colors that makes it nothing but sheer elegance to be to your friends and family.it would be treasured forever by whoever your lucky recipient is. Liven up your place with these intriguing paintings that are high definition hd graphic digital prints for home',\n",
            "       ' office or any room.\"'],\n",
            "      dtype='object')\n",
            "(35663, 8)\n"
          ]
        }
      ]
    },
    {
      "cell_type": "code",
      "source": [
        "df = df.iloc[:, [0, -1]]  # Keeping only first and last columns (adjust as needed)\n",
        "df.columns = ['Category', 'Text']\n"
      ],
      "metadata": {
        "id": "_Q23x7o_1Lq9"
      },
      "execution_count": 16,
      "outputs": []
    },
    {
      "cell_type": "code",
      "source": [
        "df.fillna(\"\", inplace=True)\n"
      ],
      "metadata": {
        "id": "2fMIdPef1cc1"
      },
      "execution_count": 17,
      "outputs": []
    },
    {
      "cell_type": "code",
      "source": [
        "# Check dataset structure\n",
        "print(df.shape)  # Number of rows & columns\n",
        "print(df.columns)  # See current column names\n",
        "\n",
        "# Keep only necessary columns\n",
        "df = df.iloc[:, [0, -1]]  # Adjust column selection based on dataset\n",
        "df.columns = ['Category', 'Text']\n",
        "\n",
        "# Fill missing values\n",
        "df.fillna(\"\", inplace=True)\n",
        "\n",
        "print(df.head())  # Verify everything is correct\n"
      ],
      "metadata": {
        "colab": {
          "base_uri": "https://localhost:8080/"
        },
        "id": "6g5I8vEq1f41",
        "outputId": "982b5045-485e-4f7b-812c-b316feea43b2"
      },
      "execution_count": 18,
      "outputs": [
        {
          "output_type": "stream",
          "name": "stdout",
          "text": [
            "(35663, 2)\n",
            "Index(['Category', 'Text'], dtype='object')\n",
            "    Category                                               Text\n",
            "0  Household                                                   \n",
            "1  Household                                                   \n",
            "2  Household                                                   \n",
            "3  Household   office or any room. A perfect size of 36 inch...\n",
            "4  Household                                                   \n"
          ]
        }
      ]
    },
    {
      "cell_type": "markdown",
      "source": [
        " Preprocessing Function"
      ],
      "metadata": {
        "id": "AwhllIAz8Epy"
      }
    },
    {
      "cell_type": "code",
      "source": [
        "from nltk.stem import PorterStemmer, SnowballStemmer\n",
        "\n",
        "stemmer = PorterStemmer()  # or SnowballStemmer(\"english\")\n",
        "\n",
        "def preprocess_text(text):\n",
        "    text = text.lower()\n",
        "    text = re.sub(f\"[{string.punctuation}]\", \"\", text)\n",
        "    tokens = word_tokenize(text)\n",
        "    tokens = [word for word in tokens if word not in stopwords.words('english')]\n",
        "    # Apply stemming\n",
        "    tokens = [stemmer.stem(word) for word in tokens]\n",
        "    return \" \".join(tokens)\n"
      ],
      "metadata": {
        "id": "roeF0bJG1qJ-"
      },
      "execution_count": 19,
      "outputs": []
    },
    {
      "cell_type": "markdown",
      "source": [
        " Applying Preprocessing"
      ],
      "metadata": {
        "id": "uzkqcvTk8HzV"
      }
    },
    {
      "cell_type": "code",
      "source": [
        "import nltk\n",
        "nltk.download('punkt')\n",
        "nltk.download('stopwords')\n",
        "nltk.download('wordnet')\n",
        "nltk.download('punkt_tab') # Download the missing 'punkt_tab' data\n",
        "df['Processed_Text'] = df['Text'].apply(preprocess_text)  # Apply function to 'Text' column\n",
        "\n",
        "print(df.head())  # Check processed text\n"
      ],
      "metadata": {
        "colab": {
          "base_uri": "https://localhost:8080/"
        },
        "id": "fhj91ibr1s_P",
        "outputId": "c9f1e5e0-a4ec-47d1-a784-9270e6a27ba1"
      },
      "execution_count": 21,
      "outputs": [
        {
          "output_type": "stream",
          "name": "stderr",
          "text": [
            "[nltk_data] Downloading package punkt to /root/nltk_data...\n",
            "[nltk_data]   Package punkt is already up-to-date!\n",
            "[nltk_data] Downloading package stopwords to /root/nltk_data...\n",
            "[nltk_data]   Package stopwords is already up-to-date!\n",
            "[nltk_data] Downloading package wordnet to /root/nltk_data...\n",
            "[nltk_data]   Package wordnet is already up-to-date!\n",
            "[nltk_data] Downloading package punkt_tab to /root/nltk_data...\n",
            "[nltk_data]   Unzipping tokenizers/punkt_tab.zip.\n"
          ]
        },
        {
          "output_type": "stream",
          "name": "stdout",
          "text": [
            "    Category                                               Text  \\\n",
            "0  Household                                                      \n",
            "1  Household                                                      \n",
            "2  Household                                                      \n",
            "3  Household   office or any room. A perfect size of 36 inch...   \n",
            "4  Household                                                      \n",
            "\n",
            "                                      Processed_Text  \n",
            "0                                                     \n",
            "1                                                     \n",
            "2                                                     \n",
            "3  offic room perfect size 36 inch x 48 inch suit...  \n",
            "4                                                     \n"
          ]
        }
      ]
    },
    {
      "cell_type": "markdown",
      "source": [
        " Text Vectorization (TF-IDF)"
      ],
      "metadata": {
        "id": "3k_4_A5I8J5W"
      }
    },
    {
      "cell_type": "code",
      "source": [
        "vectorizer = TfidfVectorizer()\n",
        "X = vectorizer.fit_transform(df['Processed_Text'])\n",
        "y = df['Category']  # Target variable\n",
        "\n",
        "print(\"Shape of feature matrix:\", X.shape)\n"
      ],
      "metadata": {
        "colab": {
          "base_uri": "https://localhost:8080/"
        },
        "id": "V-GqYpj51wEp",
        "outputId": "dab6ac34-da8d-4362-c9d6-24a1f7e26b38"
      },
      "execution_count": 22,
      "outputs": [
        {
          "output_type": "stream",
          "name": "stdout",
          "text": [
            "Shape of feature matrix: (35663, 4531)\n"
          ]
        }
      ]
    },
    {
      "cell_type": "markdown",
      "source": [
        "CountVectorizer"
      ],
      "metadata": {
        "id": "CKOk8NbBB6KE"
      }
    },
    {
      "cell_type": "code",
      "source": [
        "from sklearn.feature_extraction.text import CountVectorizer\n",
        "\n",
        "count_vectorizer = CountVectorizer()\n",
        "X_count = count_vectorizer.fit_transform(df['Processed_Text'])\n"
      ],
      "metadata": {
        "id": "AOTo5PNuB2r1"
      },
      "execution_count": 23,
      "outputs": []
    },
    {
      "cell_type": "markdown",
      "source": [
        "Splitting Dataset into Training & Testing Sets"
      ],
      "metadata": {
        "id": "7USXWh2Z8MJ6"
      }
    },
    {
      "cell_type": "code",
      "source": [
        "X_train, X_test, y_train, y_test = train_test_split(X, y, test_size=0.2, random_state=42)\n",
        "\n",
        "print(\"Training data size:\", X_train.shape)\n",
        "print(\"Testing data size:\", X_test.shape)\n"
      ],
      "metadata": {
        "colab": {
          "base_uri": "https://localhost:8080/"
        },
        "id": "vf1vgvPi12cb",
        "outputId": "67cde827-eb3f-495b-901e-d746c2100a1a"
      },
      "execution_count": 24,
      "outputs": [
        {
          "output_type": "stream",
          "name": "stdout",
          "text": [
            "Training data size: (28530, 4531)\n",
            "Testing data size: (7133, 4531)\n"
          ]
        }
      ]
    },
    {
      "cell_type": "markdown",
      "source": [
        " Training Naïve Bayes Model"
      ],
      "metadata": {
        "id": "PRJpIKnk9Ey9"
      }
    },
    {
      "cell_type": "code",
      "source": [
        "model = MultinomialNB()\n",
        "model.fit(X_train, y_train)\n",
        "\n",
        "print(\"Model training complete.\")\n"
      ],
      "metadata": {
        "colab": {
          "base_uri": "https://localhost:8080/"
        },
        "id": "zFExlrxC17LS",
        "outputId": "8a245b91-f71b-4392-f541-5047d2b76491"
      },
      "execution_count": 25,
      "outputs": [
        {
          "output_type": "stream",
          "name": "stdout",
          "text": [
            "Model training complete.\n"
          ]
        }
      ]
    },
    {
      "cell_type": "code",
      "source": [
        "from sklearn.model_selection import cross_val_score\n",
        "cv_scores = cross_val_score(model, X_train, y_train, cv=5)\n",
        "print(\"Cross-validation scores:\", cv_scores)\n",
        "print(\"Mean CV Accuracy:\", np.mean(cv_scores))\n"
      ],
      "metadata": {
        "colab": {
          "base_uri": "https://localhost:8080/"
        },
        "id": "-YUyL2Zt9GI0",
        "outputId": "2eb6621b-a8e5-450a-dc0b-f1de51cad1de"
      },
      "execution_count": 26,
      "outputs": [
        {
          "output_type": "stream",
          "name": "stderr",
          "text": [
            "/usr/local/lib/python3.11/dist-packages/sklearn/model_selection/_split.py:805: UserWarning: The least populated class in y has only 1 members, which is less than n_splits=5.\n",
            "  warnings.warn(\n"
          ]
        },
        {
          "output_type": "stream",
          "name": "stdout",
          "text": [
            "Cross-validation scores: [0.41097091 0.41097091 0.41026989 0.4106204  0.41044515]\n",
            "Mean CV Accuracy: 0.4106554504030845\n"
          ]
        }
      ]
    },
    {
      "cell_type": "code",
      "source": [
        "import seaborn as sns\n",
        "import matplotlib.pyplot as plt\n",
        "from sklearn.metrics import confusion_matrix\n",
        "\n",
        "# Make predictions first\n",
        "y_pred = model.predict(X_test)  # This line is added\n",
        "\n",
        "conf_mat = confusion_matrix(y_test, y_pred)\n",
        "plt.figure(figsize=(5, 4))\n",
        "sns.heatmap(conf_mat, annot=True, cmap=\"Blues\", fmt='g')\n",
        "plt.xlabel(\"Predicted\")\n",
        "plt.ylabel(\"Actual\")\n",
        "plt.title(\"Confusion Matrix\")\n",
        "plt.show()"
      ],
      "metadata": {
        "colab": {
          "base_uri": "https://localhost:8080/",
          "height": 410
        },
        "id": "-1Ua-o9E9THp",
        "outputId": "2cd042e9-7f13-4cc3-dab7-f1370a46b170"
      },
      "execution_count": 28,
      "outputs": [
        {
          "output_type": "display_data",
          "data": {
            "text/plain": [
              "<Figure size 500x400 with 2 Axes>"
            ],
            "image/png": "[encoded data removed]"
          },
          "metadata": {}
        }
      ]
    },
    {
      "cell_type": "markdown",
      "source": [
        " Making Predictions & Evaluating Model"
      ],
      "metadata": {
        "id": "A5tmRXgH8Rrg"
      }
    },
    {
      "cell_type": "code",
      "source": [
        "y_pred = model.predict(X_test)\n",
        "\n",
        "accuracy = accuracy_score(y_test, y_pred)\n",
        "print(\"Accuracy:\", accuracy)\n",
        "print(\"Classification Report:\\n\", classification_report(y_test, y_pred))\n",
        "print(\"Confusion Matrix:\\n\", confusion_matrix(y_test, y_pred))\n"
      ],
      "metadata": {
        "colab": {
          "base_uri": "https://localhost:8080/"
        },
        "id": "Izt82D5k2ApD",
        "outputId": "e045409c-86bb-454d-8657-fadcbd877b2d"
      },
      "execution_count": 29,
      "outputs": [
        {
          "output_type": "stream",
          "name": "stdout",
          "text": [
            "Accuracy: 0.41244917986821816\n"
          ]
        },
        {
          "output_type": "stream",
          "name": "stderr",
          "text": [
            "/usr/local/lib/python3.11/dist-packages/sklearn/metrics/_classification.py:1565: UndefinedMetricWarning: Precision is ill-defined and being set to 0.0 in labels with no predicted samples. Use `zero_division` parameter to control this behavior.\n",
            "  _warn_prf(average, modifier, f\"{metric.capitalize()} is\", len(result))\n",
            "/usr/local/lib/python3.11/dist-packages/sklearn/metrics/_classification.py:1565: UndefinedMetricWarning: Precision is ill-defined and being set to 0.0 in labels with no predicted samples. Use `zero_division` parameter to control this behavior.\n",
            "  _warn_prf(average, modifier, f\"{metric.capitalize()} is\", len(result))\n",
            "/usr/local/lib/python3.11/dist-packages/sklearn/metrics/_classification.py:1565: UndefinedMetricWarning: Precision is ill-defined and being set to 0.0 in labels with no predicted samples. Use `zero_division` parameter to control this behavior.\n",
            "  _warn_prf(average, modifier, f\"{metric.capitalize()} is\", len(result))\n"
          ]
        },
        {
          "output_type": "stream",
          "name": "stdout",
          "text": [
            "Classification Report:\n",
            "                                                                                             precision    recall  f1-score   support\n",
            "\n",
            "                                   Combined with a IPX4 Sweat/Dust/Splash Resistant design       0.00      0.00      0.00         2\n",
            "                                                                     In our business model       0.00      0.00      0.00         1\n",
            " Submerge yourself in the limitless world of sound with the latest in Bluetooth innovation       0.00      0.00      0.00         1\n",
            "                    When I heard of a concept that could make Soda right at home using Co2       0.00      0.00      0.00         1\n",
            "                                                                                     Books       0.97      0.04      0.08      1501\n",
            "                                                                    Clothing & Accessories       0.87      0.02      0.04      1477\n",
            "                                                                               Electronics       0.98      0.07      0.13      1390\n",
            "                                                                                 Household       0.40      1.00      0.57      2760\n",
            "\n",
            "                                                                                  accuracy                           0.41      7133\n",
            "                                                                                 macro avg       0.40      0.14      0.10      7133\n",
            "                                                                              weighted avg       0.73      0.41      0.27      7133\n",
            "\n",
            "Confusion Matrix:\n",
            " [[   0    0    0    0    0    0    0    2]\n",
            " [   0    0    0    0    0    0    0    1]\n",
            " [   0    0    0    0    0    0    0    1]\n",
            " [   0    0    0    0    0    0    0    1]\n",
            " [   0    0    0    0   59    2    2 1438]\n",
            " [   0    0    0    0    0   27    0 1450]\n",
            " [   0    0    0    0    0    1   99 1290]\n",
            " [   0    0    0    0    2    1    0 2757]]\n"
          ]
        }
      ]
    },
    {
      "cell_type": "markdown",
      "source": [
        "Logistic Regression Model"
      ],
      "metadata": {
        "id": "JpW1JagE_e4N"
      }
    },
    {
      "cell_type": "code",
      "source": [
        "from sklearn.linear_model import LogisticRegression\n",
        "\n",
        "log_reg = LogisticRegression()\n",
        "log_reg.fit(X_train, y_train)\n",
        "y_pred_lr = log_reg.predict(X_test)\n",
        "\n",
        "print(\"Logistic Regression Performance:\")\n",
        "print(\"Accuracy:\", accuracy_score(y_test, y_pred_lr))\n",
        "print(\"Classification Report:\\n\", classification_report(y_test, y_pred_lr))\n"
      ],
      "metadata": {
        "colab": {
          "base_uri": "https://localhost:8080/"
        },
        "id": "FQWci3t19xIO",
        "outputId": "0cfae9d4-8e09-4945-d079-7579fd0833cf"
      },
      "execution_count": 30,
      "outputs": [
        {
          "output_type": "stream",
          "name": "stdout",
          "text": [
            "Logistic Regression Performance:\n",
            "Accuracy: 0.41399130800504697\n",
            "Classification Report:\n",
            "                                                                                             precision    recall  f1-score   support\n",
            "\n",
            "                                   Combined with a IPX4 Sweat/Dust/Splash Resistant design       0.00      0.00      0.00         2\n",
            "                                                                     In our business model       0.00      0.00      0.00         1\n",
            " Submerge yourself in the limitless world of sound with the latest in Bluetooth innovation       0.00      0.00      0.00         1\n",
            "                    When I heard of a concept that could make Soda right at home using Co2       0.00      0.00      0.00         1\n",
            "                                                                                     Books       0.97      0.04      0.08      1501\n",
            "                                                                    Clothing & Accessories       0.97      0.02      0.04      1477\n",
            "                                                                               Electronics       0.98      0.08      0.14      1390\n",
            "                                                                                 Household       0.40      1.00      0.57      2760\n",
            "\n",
            "                                                                                  accuracy                           0.41      7133\n",
            "                                                                                 macro avg       0.41      0.14      0.10      7133\n",
            "                                                                              weighted avg       0.75      0.41      0.27      7133\n",
            "\n"
          ]
        },
        {
          "output_type": "stream",
          "name": "stderr",
          "text": [
            "/usr/local/lib/python3.11/dist-packages/sklearn/metrics/_classification.py:1565: UndefinedMetricWarning: Precision is ill-defined and being set to 0.0 in labels with no predicted samples. Use `zero_division` parameter to control this behavior.\n",
            "  _warn_prf(average, modifier, f\"{metric.capitalize()} is\", len(result))\n",
            "/usr/local/lib/python3.11/dist-packages/sklearn/metrics/_classification.py:1565: UndefinedMetricWarning: Precision is ill-defined and being set to 0.0 in labels with no predicted samples. Use `zero_division` parameter to control this behavior.\n",
            "  _warn_prf(average, modifier, f\"{metric.capitalize()} is\", len(result))\n",
            "/usr/local/lib/python3.11/dist-packages/sklearn/metrics/_classification.py:1565: UndefinedMetricWarning: Precision is ill-defined and being set to 0.0 in labels with no predicted samples. Use `zero_division` parameter to control this behavior.\n",
            "  _warn_prf(average, modifier, f\"{metric.capitalize()} is\", len(result))\n"
          ]
        }
      ]
    },
    {
      "cell_type": "markdown",
      "source": [
        "Confusion Matrix Visualization"
      ],
      "metadata": {
        "id": "XCGPshKK_iqH"
      }
    },
    {
      "cell_type": "code",
      "source": [
        "import seaborn as sns\n",
        "import matplotlib.pyplot as plt\n",
        "from sklearn.metrics import confusion_matrix\n",
        "\n",
        "# Confusion Matrix for Naïve Bayes\n",
        "conf_mat_nb = confusion_matrix(y_test, y_pred)\n",
        "plt.figure(figsize=(5, 4))\n",
        "sns.heatmap(conf_mat_nb, annot=True, cmap=\"Blues\", fmt='g')\n",
        "plt.xlabel(\"Predicted\")\n",
        "plt.ylabel(\"Actual\")\n",
        "plt.title(\"Confusion Matrix - Naïve Bayes\")\n",
        "plt.show()\n",
        "\n",
        "# Confusion Matrix for Logistic Regression\n",
        "conf_mat_lr = confusion_matrix(y_test, y_pred_lr)\n",
        "plt.figure(figsize=(5, 4))\n",
        "sns.heatmap(conf_mat_lr, annot=True, cmap=\"Greens\", fmt='g')\n",
        "plt.xlabel(\"Predicted\")\n",
        "plt.ylabel(\"Actual\")\n",
        "plt.title(\"Confusion Matrix - Logistic Regression\")\n",
        "plt.show()\n"
      ],
      "metadata": {
        "colab": {
          "base_uri": "https://localhost:8080/",
          "height": 803
        },
        "id": "4zkNGVNw91TZ",
        "outputId": "e2115eca-2f03-466d-9721-fed8b35d4286"
      },
      "execution_count": 31,
      "outputs": [
        {
          "output_type": "display_data",
          "data": {
            "text/plain": [
              "<Figure size 500x400 with 2 Axes>"
            ],
            "image/png": "[encoded data removed]"
          },
          "metadata": {}
        },
        {
          "output_type": "display_data",
          "data": {
            "text/plain": [
              "<Figure size 500x400 with 2 Axes>"
            ],
            "image/png": "[encoded data removed]"
          },
          "metadata": {}
        }
      ]
    },
    {
      "cell_type": "markdown",
      "source": [
        "Evaluation Metrics"
      ],
      "metadata": {
        "id": "PDdSMeFp_rZ9"
      }
    },
    {
      "cell_type": "code",
      "source": [
        "from sklearn.metrics import precision_score, recall_score, f1_score\n",
        "\n",
        "print(\"Naïve Bayes Model Performance:\")\n",
        "print(\"Accuracy:\", accuracy_score(y_test, y_pred))\n",
        "print(\"Precision:\", precision_score(y_test, y_pred, average='weighted'))\n",
        "print(\"Recall:\", recall_score(y_test, y_pred, average='weighted'))\n",
        "print(\"F1 Score:\", f1_score(y_test, y_pred, average='weighted'))\n"
      ],
      "metadata": {
        "colab": {
          "base_uri": "https://localhost:8080/"
        },
        "id": "TCfQQ41P9-Ia",
        "outputId": "0da78370-aacf-4227-cb24-30f63bea48da"
      },
      "execution_count": 32,
      "outputs": [
        {
          "output_type": "stream",
          "name": "stdout",
          "text": [
            "Naïve Bayes Model Performance:\n",
            "Accuracy: 0.41244917986821816\n",
            "Precision: 0.7286030129880761\n",
            "Recall: 0.41244917986821816\n",
            "F1 Score: 0.26914358751099343\n"
          ]
        },
        {
          "output_type": "stream",
          "name": "stderr",
          "text": [
            "/usr/local/lib/python3.11/dist-packages/sklearn/metrics/_classification.py:1565: UndefinedMetricWarning: Precision is ill-defined and being set to 0.0 in labels with no predicted samples. Use `zero_division` parameter to control this behavior.\n",
            "  _warn_prf(average, modifier, f\"{metric.capitalize()} is\", len(result))\n"
          ]
        }
      ]
    }
  ]
}